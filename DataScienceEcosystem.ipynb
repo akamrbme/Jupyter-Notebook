{
 "cells": [
  {
   "cell_type": "markdown",
   "id": "3d587c7d-7590-4d0a-96c5-a2b1524b1d74",
   "metadata": {
    "tags": []
   },
   "source": [
    "# Data Science Ecosystem"
   ]
  },
  {
   "cell_type": "markdown",
   "id": "eba4bf76-e9ad-49d0-97c7-1313c3223277",
   "metadata": {
    "tags": []
   },
   "source": [
    "## Author\n",
    "Dylan Brown"
   ]
  },
  {
   "cell_type": "markdown",
   "id": "b4c91cdf-d44c-4b17-8e47-a65d8a89463e",
   "metadata": {},
   "source": [
    "In this notebook, Data Science Tools and Ecosystem are summarized."
   ]
  },
  {
   "cell_type": "markdown",
   "id": "3a83ef29-236c-40b9-a246-416d5a46ed56",
   "metadata": {},
   "source": [
    "**Objectives:**\n",
    "\n",
    "- Popular Languages in Data Science\n",
    "- Commonly used Libraries in Data Science\n",
    "- Data Science Tools\n",
    "- Examples of Evaluating Arithmetic Expressions in Python"
   ]
  },
  {
   "cell_type": "markdown",
   "id": "020c97af-937a-4e04-bb60-8092d04a4020",
   "metadata": {},
   "source": [
    "Some of the popular languages that Data Scientists use are:\n",
    "\n",
    "1. Python\n",
    "2. R\n",
    "3. SQL\n",
    "4. Java\n",
    "5. Scala"
   ]
  },
  {
   "cell_type": "markdown",
   "id": "0a4e516b-17b2-427f-952d-835a823cad49",
   "metadata": {},
   "source": [
    "Some of the commonly used libraries used by Data Scientists include:\n",
    "\n",
    "1. Pandas\n",
    "2. Scikit-Learn\n",
    "3. Spark\n",
    "4. NumPy\n",
    "5. TensorFlow"
   ]
  },
  {
   "cell_type": "markdown",
   "id": "14df2966-6add-4f03-8a7b-8bcef798ef6a",
   "metadata": {},
   "source": [
    "| Data Science Tools |\n",
    "| -- |\n",
    "| RStudio |\n",
    "| Apache Spark |\n",
    "| TensorFlow |"
   ]
  },
  {
   "cell_type": "markdown",
   "id": "072ab40b-0909-4cf5-b26f-25e1788598a2",
   "metadata": {},
   "source": [
    "### Below are a few examples of evaluating arithmetic expressions in Python."
   ]
  },
  {
   "cell_type": "markdown",
   "id": "7a3be522-e0d7-4b23-8e5d-ad9733f99f9a",
   "metadata": {},
   "source": [
    "This is a simple arithmetic expression to multiply and then add integers."
   ]
  },
  {
   "cell_type": "code",
   "execution_count": 5,
   "id": "84211476-6813-4685-8a3a-180d21364f8c",
   "metadata": {
    "tags": []
   },
   "outputs": [
    {
     "data": {
      "text/plain": [
       "17"
      ]
     },
     "execution_count": 5,
     "metadata": {},
     "output_type": "execute_result"
    }
   ],
   "source": [
    "(3*4)+5"
   ]
  },
  {
   "cell_type": "code",
   "execution_count": null,
   "id": "c0409a1f-fb24-43a1-882c-7fc785c3e028",
   "metadata": {},
   "outputs": [],
   "source": [
    "This will convert 200 minutes to hours by dividing by 60."
   ]
  },
  {
   "cell_type": "code",
   "execution_count": 7,
   "id": "b8688bd2-e8b2-4f40-9b58-ac817ccebe81",
   "metadata": {
    "tags": []
   },
   "outputs": [
    {
     "data": {
      "text/plain": [
       "3.3333333333333335"
      ]
     },
     "execution_count": 7,
     "metadata": {},
     "output_type": "execute_result"
    }
   ],
   "source": [
    "200 / 60"
   ]
  }
 ],
 "metadata": {
  "kernelspec": {
   "display_name": "Python",
   "language": "python",
   "name": "conda-env-python-py"
  },
  "language_info": {
   "codemirror_mode": {
    "name": "ipython",
    "version": 3
   },
   "file_extension": ".py",
   "mimetype": "text/x-python",
   "name": "python",
   "nbconvert_exporter": "python",
   "pygments_lexer": "ipython3",
   "version": "3.7.12"
  }
 },
 "nbformat": 4,
 "nbformat_minor": 5
}
